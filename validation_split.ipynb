{
 "cells": [
  {
   "cell_type": "code",
   "execution_count": 1,
   "metadata": {
    "collapsed": true
   },
   "outputs": [],
   "source": [
    "# Download OpenCV package which support python 3's\n",
    "# Link : https://www.lfd.uci.edu/~gohlke/pythonlibs/\n",
    "# 下載opencv_python-3.4.0-cp36-cp36m-win_amd64.whl版本"
   ]
  },
  {
   "cell_type": "code",
   "execution_count": 11,
   "metadata": {
    "collapsed": true
   },
   "outputs": [],
   "source": [
    "def split_picture():\n",
    "    \n",
    "    !pip install wheel\n",
    "    !pip install C:/Users/Hao-Ping/Desktop/stock_crawler/opencv_python-3.4.0-cp36-cp36m-win_amd64.whl\n",
    "    !pip install matplotlib\n",
    "    !pip install matplotlib\n",
    "    \n",
    "    import matplotlib.pyplot as plt\n",
    "    import cv2\n",
    "    import numpy as np\n",
    "    \n",
    "    verification_image = cv2.imread(\"C:/Users/Hao-Ping/Desktop/stock_crawler/CaptchaImage.jpg\")\n",
    "    plt.axis(\"off\")\n",
    "    plt.imshow(verification_image)\n",
    "    plt.show()\n",
    "\n",
    "    # 超過440外沒有其他東西，視為無顏色\n",
    "    kernel = np.ones((4,5),np.uint8)\n",
    "    erosion = cv2.erode(verification_image, kernel, iterations = 1)\n",
    "    plt.imshow(erosion)\n",
    "    plt.show()\n",
    "\n",
    "    # 模糊(淡化奇怪的點)\n",
    "    blurred = cv2.GaussianBlur(erosion, (5,5),0)\n",
    "    plt.imshow(blurred)\n",
    "    plt.show()\n",
    "\n",
    "    # 透過Canny演算法找出邊界\n",
    "    canny = cv2.Canny(blurred, 30,150)\n",
    "    plt.imshow(canny)\n",
    "    plt.show()\n",
    "\n",
    "    # 膨脹\n",
    "    dilation = cv2.dilate(canny, kernel, iterations = 1)\n",
    "    plt.imshow(dilation)\n",
    "    plt.show()\n",
    "\n",
    "    # 偵測輪廓\n",
    "    image, contours, hierarchy = cv2.findContours(dilation.copy(),cv2.RETR_TREE,cv2.CHAIN_APPROX_SIMPLE)\n",
    "    # BoundingRect，找出邊界x,y,寬,高\n",
    "    cnts = sorted([(c,cv2.boundingRect(c)[0])  for c in contours], key = lambda x:x[1])\n",
    "\n",
    "    array = []\n",
    "    for(c, _) in cnts:\n",
    "        (x,y,w,h)=cv2.boundingRect(c)\n",
    "        # 判斷寬高超過15才算一個字(不然會切太多)\n",
    "        if w > 15 and h > 15:\n",
    "            array.append((x,y,w,h))\n",
    "\n",
    "    # 產生個別圖案並存檔\n",
    "    fig = plt.figure()\n",
    "    for id, (x,y,w,h) in enumerate(array):\n",
    "        roi = dilation[y:y+h, x:x+w]\n",
    "        thresh = roi.copy()\n",
    "        a = fig.add_subplot(1, len(array), id+1)\n",
    "        # 切成同樣大小(50,50)\n",
    "        res = cv2.resize(thresh, (50,50))\n",
    "        plt.imshow(res)\n",
    "        plt.show()\n",
    "        # 存檔\n",
    "        cv2.imwrite(\"{}.png\".format(id),res)"
   ]
  },
  {
   "cell_type": "code",
   "execution_count": null,
   "metadata": {
    "collapsed": true
   },
   "outputs": [],
   "source": []
  }
 ],
 "metadata": {
  "kernelspec": {
   "display_name": "Python 3",
   "language": "python",
   "name": "python3"
  },
  "language_info": {
   "codemirror_mode": {
    "name": "ipython",
    "version": 3
   },
   "file_extension": ".py",
   "mimetype": "text/x-python",
   "name": "python",
   "nbconvert_exporter": "python",
   "pygments_lexer": "ipython3",
   "version": "3.6.0"
  }
 },
 "nbformat": 4,
 "nbformat_minor": 2
}
